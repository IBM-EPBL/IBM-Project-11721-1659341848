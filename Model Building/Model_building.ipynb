{
 "cells": [
  {
   "cell_type": "markdown",
   "metadata": {},
   "source": [
    "Resources Used\n",
    "- wget.download('https://tensorflow-object-detection-api-tutorial.readthedocs.io/en/latest/_downloads/da4babe668a8afb093cc7776d7e630f3/generate_tfrecord.py')\n",
    "- Setup https://tensorflow-object-detection-api-tutorial.readthedocs.io/en/latest/install.html"
   ]
  },
  {
   "cell_type": "markdown",
   "metadata": {},
   "source": [
    "# 0. Setup Paths"
   ]
  },
  {
   "cell_type": "code",
   "execution_count": 48,
   "metadata": {},
   "outputs": [],
   "source": [
    "WORKSPACE_PATH = 'Tensorflow/workspace'\n",
    "SCRIPTS_PATH = 'Tensorflow/scripts'\n",
    "APIMODEL_PATH = 'Tensorflow/models'\n",
    "ANNOTATION_PATH = WORKSPACE_PATH+'/annotations'\n",
    "IMAGE_PATH = WORKSPACE_PATH+'/images'\n",
    "MODEL_PATH = WORKSPACE_PATH+'/models'\n",
    "PRETRAINED_MODEL_PATH = WORKSPACE_PATH+'/pre-trained-models'\n",
    "CONFIG_PATH = MODEL_PATH+'/my_ssd_mobnet/pipeline.config'\n",
    "CHECKPOINT_PATH = MODEL_PATH+'/my_ssd_mobnet/'"
   ]
  },
  {
   "cell_type": "markdown",
   "metadata": {},
   "source": [
    "# 1. Create Label Map"
   ]
  },
  {
   "cell_type": "code",
   "execution_count": 49,
   "metadata": {},
   "outputs": [],
   "source": [
    "labels = [\n",
    "    {'name':'Hello', 'id':1},\n",
    "    {'name':'Thank You', 'id':2},\n",
    "    {'name':'I Love You', 'id':3},\n",
    "    {'name':'Yes', 'id':4},\n",
    "    {'name':'No', 'id':5},\n",
    "]"
   ]
  },
  {
   "cell_type": "code",
   "execution_count": 50,
   "metadata": {},
   "outputs": [],
   "source": [
    "with open(ANNOTATION_PATH + '\\label_map.pbtxt', 'w') as f:\n",
    "    for label in labels:\n",
    "        f.write('item { \\n')\n",
    "        f.write('\\tname:\\'{}\\'\\n'.format(label['name']))\n",
    "        f.write('\\tid:{}\\n'.format(label['id']))\n",
    "        f.write('}\\n')"
   ]
  },
  {
   "cell_type": "markdown",
   "metadata": {},
   "source": [
    "# 2. Create TF records"
   ]
  },
  {
   "cell_type": "code",
   "execution_count": 51,
   "metadata": {},
   "outputs": [],
   "source": [
    "import os\n"
   ]
  },
  {
   "cell_type": "code",
   "execution_count": 22,
   "metadata": {},
   "outputs": [
    {
     "name": "stdout",
     "output_type": "stream",
     "text": [
      "Requirement already satisfied: tensorflow-object-detection-api in c:\\users\\mathe\\anaconda3\\envs\\tf_2.4.0\\lib\\site-packages (0.1.1)\n",
      "Requirement already satisfied: Pillow>=1.0 in c:\\users\\mathe\\anaconda3\\envs\\tf_2.4.0\\lib\\site-packages (from tensorflow-object-detection-api) (9.3.0)\n",
      "Requirement already satisfied: wheel in c:\\users\\mathe\\anaconda3\\envs\\tf_2.4.0\\lib\\site-packages (from tensorflow-object-detection-api) (0.37.1)\n",
      "Requirement already satisfied: twine in c:\\users\\mathe\\anaconda3\\envs\\tf_2.4.0\\lib\\site-packages (from tensorflow-object-detection-api) (4.0.1)\n",
      "Requirement already satisfied: Cython>=0.28.1 in c:\\users\\mathe\\anaconda3\\envs\\tf_2.4.0\\lib\\site-packages (from tensorflow-object-detection-api) (0.29.32)\n",
      "Requirement already satisfied: contextlib2 in c:\\users\\mathe\\anaconda3\\envs\\tf_2.4.0\\lib\\site-packages (from tensorflow-object-detection-api) (21.6.0)\n",
      "Requirement already satisfied: lxml in c:\\users\\mathe\\anaconda3\\envs\\tf_2.4.0\\lib\\site-packages (from tensorflow-object-detection-api) (4.9.1)\n",
      "Requirement already satisfied: jupyter in c:\\users\\mathe\\anaconda3\\envs\\tf_2.4.0\\lib\\site-packages (from tensorflow-object-detection-api) (1.0.0)\n",
      "Requirement already satisfied: tensorflow in c:\\users\\mathe\\anaconda3\\envs\\tf_2.4.0\\lib\\site-packages (from tensorflow-object-detection-api) (2.0.0)\n",
      "Requirement already satisfied: Protobuf in c:\\users\\mathe\\anaconda3\\envs\\tf_2.4.0\\lib\\site-packages (from tensorflow-object-detection-api) (3.20.1)\n",
      "Requirement already satisfied: Matplotlib>=2.1 in c:\\users\\mathe\\anaconda3\\envs\\tf_2.4.0\\lib\\site-packages (from tensorflow-object-detection-api) (3.5.3)\n",
      "Requirement already satisfied: cycler>=0.10 in c:\\users\\mathe\\anaconda3\\envs\\tf_2.4.0\\lib\\site-packages (from Matplotlib>=2.1->tensorflow-object-detection-api) (0.11.0)\n",
      "Requirement already satisfied: fonttools>=4.22.0 in c:\\users\\mathe\\anaconda3\\envs\\tf_2.4.0\\lib\\site-packages (from Matplotlib>=2.1->tensorflow-object-detection-api) (4.38.0)\n",
      "Requirement already satisfied: python-dateutil>=2.7 in c:\\users\\mathe\\anaconda3\\envs\\tf_2.4.0\\lib\\site-packages (from Matplotlib>=2.1->tensorflow-object-detection-api) (2.8.2)\n",
      "Requirement already satisfied: packaging>=20.0 in c:\\users\\mathe\\anaconda3\\envs\\tf_2.4.0\\lib\\site-packages (from Matplotlib>=2.1->tensorflow-object-detection-api) (21.3)\n",
      "Requirement already satisfied: kiwisolver>=1.0.1 in c:\\users\\mathe\\anaconda3\\envs\\tf_2.4.0\\lib\\site-packages (from Matplotlib>=2.1->tensorflow-object-detection-api) (1.4.4)\n",
      "Requirement already satisfied: pyparsing>=2.2.1 in c:\\users\\mathe\\anaconda3\\envs\\tf_2.4.0\\lib\\site-packages (from Matplotlib>=2.1->tensorflow-object-detection-api) (3.0.9)\n",
      "Requirement already satisfied: numpy>=1.17 in c:\\users\\mathe\\anaconda3\\envs\\tf_2.4.0\\lib\\site-packages (from Matplotlib>=2.1->tensorflow-object-detection-api) (1.21.5)\n",
      "Requirement already satisfied: qtconsole in c:\\users\\mathe\\anaconda3\\envs\\tf_2.4.0\\lib\\site-packages (from jupyter->tensorflow-object-detection-api) (5.3.2)\n",
      "Requirement already satisfied: ipykernel in c:\\users\\mathe\\anaconda3\\envs\\tf_2.4.0\\lib\\site-packages (from jupyter->tensorflow-object-detection-api) (6.15.2)\n",
      "Requirement already satisfied: nbconvert in c:\\users\\mathe\\anaconda3\\envs\\tf_2.4.0\\lib\\site-packages (from jupyter->tensorflow-object-detection-api) (6.5.4)\n",
      "Requirement already satisfied: jupyter-console in c:\\users\\mathe\\anaconda3\\envs\\tf_2.4.0\\lib\\site-packages (from jupyter->tensorflow-object-detection-api) (6.4.3)\n",
      "Requirement already satisfied: notebook in c:\\users\\mathe\\anaconda3\\envs\\tf_2.4.0\\lib\\site-packages (from jupyter->tensorflow-object-detection-api) (6.5.2)\n",
      "Requirement already satisfied: ipywidgets in c:\\users\\mathe\\anaconda3\\envs\\tf_2.4.0\\lib\\site-packages (from jupyter->tensorflow-object-detection-api) (7.6.5)\n",
      "Requirement already satisfied: gast==0.2.2 in c:\\users\\mathe\\anaconda3\\envs\\tf_2.4.0\\lib\\site-packages (from tensorflow->tensorflow-object-detection-api) (0.2.2)\n",
      "Requirement already satisfied: six>=1.10.0 in c:\\users\\mathe\\anaconda3\\envs\\tf_2.4.0\\lib\\site-packages (from tensorflow->tensorflow-object-detection-api) (1.16.0)\n",
      "Requirement already satisfied: keras-preprocessing>=1.0.5 in c:\\users\\mathe\\anaconda3\\envs\\tf_2.4.0\\lib\\site-packages (from tensorflow->tensorflow-object-detection-api) (1.1.2)\n",
      "Requirement already satisfied: tensorflow-estimator<2.1.0,>=2.0.0 in c:\\users\\mathe\\anaconda3\\envs\\tf_2.4.0\\lib\\site-packages (from tensorflow->tensorflow-object-detection-api) (2.0.1)\n",
      "Requirement already satisfied: absl-py>=0.7.0 in c:\\users\\mathe\\anaconda3\\envs\\tf_2.4.0\\lib\\site-packages (from tensorflow->tensorflow-object-detection-api) (0.15.0)\n",
      "Requirement already satisfied: astor>=0.6.0 in c:\\users\\mathe\\anaconda3\\envs\\tf_2.4.0\\lib\\site-packages (from tensorflow->tensorflow-object-detection-api) (0.8.1)\n",
      "Requirement already satisfied: grpcio>=1.8.6 in c:\\users\\mathe\\anaconda3\\envs\\tf_2.4.0\\lib\\site-packages (from tensorflow->tensorflow-object-detection-api) (1.42.0)\n",
      "Requirement already satisfied: tensorboard<2.1.0,>=2.0.0 in c:\\users\\mathe\\anaconda3\\envs\\tf_2.4.0\\lib\\site-packages (from tensorflow->tensorflow-object-detection-api) (2.0.2)\n",
      "Requirement already satisfied: termcolor>=1.1.0 in c:\\users\\mathe\\anaconda3\\envs\\tf_2.4.0\\lib\\site-packages (from tensorflow->tensorflow-object-detection-api) (1.1.0)\n",
      "Requirement already satisfied: keras-applications>=1.0.8 in c:\\users\\mathe\\anaconda3\\envs\\tf_2.4.0\\lib\\site-packages (from tensorflow->tensorflow-object-detection-api) (1.0.8)\n",
      "Requirement already satisfied: google-pasta>=0.1.6 in c:\\users\\mathe\\anaconda3\\envs\\tf_2.4.0\\lib\\site-packages (from tensorflow->tensorflow-object-detection-api) (0.2.0)\n",
      "Requirement already satisfied: wrapt>=1.11.1 in c:\\users\\mathe\\anaconda3\\envs\\tf_2.4.0\\lib\\site-packages (from tensorflow->tensorflow-object-detection-api) (1.14.1)\n",
      "Requirement already satisfied: opt-einsum>=2.3.2 in c:\\users\\mathe\\anaconda3\\envs\\tf_2.4.0\\lib\\site-packages (from tensorflow->tensorflow-object-detection-api) (3.3.0)\n",
      "Requirement already satisfied: rich>=12.0.0 in c:\\users\\mathe\\anaconda3\\envs\\tf_2.4.0\\lib\\site-packages (from twine->tensorflow-object-detection-api) (12.6.0)\n",
      "Requirement already satisfied: requests-toolbelt!=0.9.0,>=0.8.0 in c:\\users\\mathe\\anaconda3\\envs\\tf_2.4.0\\lib\\site-packages (from twine->tensorflow-object-detection-api) (0.10.1)\n",
      "Requirement already satisfied: importlib-metadata>=3.6 in c:\\users\\mathe\\anaconda3\\envs\\tf_2.4.0\\lib\\site-packages (from twine->tensorflow-object-detection-api) (5.0.0)\n",
      "Requirement already satisfied: urllib3>=1.26.0 in c:\\users\\mathe\\anaconda3\\envs\\tf_2.4.0\\lib\\site-packages (from twine->tensorflow-object-detection-api) (1.26.12)\n",
      "Requirement already satisfied: readme-renderer>=35.0 in c:\\users\\mathe\\anaconda3\\envs\\tf_2.4.0\\lib\\site-packages (from twine->tensorflow-object-detection-api) (37.3)\n",
      "Requirement already satisfied: requests>=2.20 in c:\\users\\mathe\\anaconda3\\envs\\tf_2.4.0\\lib\\site-packages (from twine->tensorflow-object-detection-api) (2.28.1)\n",
      "Requirement already satisfied: pkginfo>=1.8.1 in c:\\users\\mathe\\anaconda3\\envs\\tf_2.4.0\\lib\\site-packages (from twine->tensorflow-object-detection-api) (1.8.3)\n",
      "Requirement already satisfied: keyring>=15.1 in c:\\users\\mathe\\anaconda3\\envs\\tf_2.4.0\\lib\\site-packages (from twine->tensorflow-object-detection-api) (23.11.0)\n",
      "Requirement already satisfied: rfc3986>=1.4.0 in c:\\users\\mathe\\anaconda3\\envs\\tf_2.4.0\\lib\\site-packages (from twine->tensorflow-object-detection-api) (2.0.0)\n",
      "Requirement already satisfied: typing-extensions>=3.6.4 in c:\\users\\mathe\\anaconda3\\envs\\tf_2.4.0\\lib\\site-packages (from importlib-metadata>=3.6->twine->tensorflow-object-detection-api) (4.3.0)\n",
      "Requirement already satisfied: zipp>=0.5 in c:\\users\\mathe\\anaconda3\\envs\\tf_2.4.0\\lib\\site-packages (from importlib-metadata>=3.6->twine->tensorflow-object-detection-api) (3.8.0)\n",
      "Requirement already satisfied: h5py in c:\\users\\mathe\\anaconda3\\envs\\tf_2.4.0\\lib\\site-packages (from keras-applications>=1.0.8->tensorflow->tensorflow-object-detection-api) (3.7.0)\n",
      "Requirement already satisfied: jaraco.classes in c:\\users\\mathe\\anaconda3\\envs\\tf_2.4.0\\lib\\site-packages (from keyring>=15.1->twine->tensorflow-object-detection-api) (3.2.3)\n",
      "Requirement already satisfied: pywin32-ctypes!=0.1.0,!=0.1.1 in c:\\users\\mathe\\anaconda3\\envs\\tf_2.4.0\\lib\\site-packages (from keyring>=15.1->twine->tensorflow-object-detection-api) (0.2.0)\n",
      "Requirement already satisfied: bleach>=2.1.0 in c:\\users\\mathe\\anaconda3\\envs\\tf_2.4.0\\lib\\site-packages (from readme-renderer>=35.0->twine->tensorflow-object-detection-api) (4.1.0)\n",
      "Requirement already satisfied: Pygments>=2.5.1 in c:\\users\\mathe\\anaconda3\\envs\\tf_2.4.0\\lib\\site-packages (from readme-renderer>=35.0->twine->tensorflow-object-detection-api) (2.11.2)\n",
      "Requirement already satisfied: docutils>=0.13.1 in c:\\users\\mathe\\anaconda3\\envs\\tf_2.4.0\\lib\\site-packages (from readme-renderer>=35.0->twine->tensorflow-object-detection-api) (0.19)\n",
      "Requirement already satisfied: certifi>=2017.4.17 in c:\\users\\mathe\\anaconda3\\envs\\tf_2.4.0\\lib\\site-packages (from requests>=2.20->twine->tensorflow-object-detection-api) (2022.9.24)\n",
      "Requirement already satisfied: charset-normalizer<3,>=2 in c:\\users\\mathe\\anaconda3\\envs\\tf_2.4.0\\lib\\site-packages (from requests>=2.20->twine->tensorflow-object-detection-api) (2.0.4)\n",
      "Requirement already satisfied: idna<4,>=2.5 in c:\\users\\mathe\\anaconda3\\envs\\tf_2.4.0\\lib\\site-packages (from requests>=2.20->twine->tensorflow-object-detection-api) (3.4)\n",
      "Requirement already satisfied: commonmark<0.10.0,>=0.9.0 in c:\\users\\mathe\\anaconda3\\envs\\tf_2.4.0\\lib\\site-packages (from rich>=12.0.0->twine->tensorflow-object-detection-api) (0.9.1)\n",
      "Requirement already satisfied: markdown>=2.6.8 in c:\\users\\mathe\\anaconda3\\envs\\tf_2.4.0\\lib\\site-packages (from tensorboard<2.1.0,>=2.0.0->tensorflow->tensorflow-object-detection-api) (3.3.4)\n",
      "Requirement already satisfied: google-auth<2,>=1.6.3 in c:\\users\\mathe\\anaconda3\\envs\\tf_2.4.0\\lib\\site-packages (from tensorboard<2.1.0,>=2.0.0->tensorflow->tensorflow-object-detection-api) (1.35.0)\n",
      "Requirement already satisfied: google-auth-oauthlib<0.5,>=0.4.1 in c:\\users\\mathe\\anaconda3\\envs\\tf_2.4.0\\lib\\site-packages (from tensorboard<2.1.0,>=2.0.0->tensorflow->tensorflow-object-detection-api) (0.4.4)\n",
      "Requirement already satisfied: werkzeug>=0.11.15 in c:\\users\\mathe\\anaconda3\\envs\\tf_2.4.0\\lib\\site-packages (from tensorboard<2.1.0,>=2.0.0->tensorflow->tensorflow-object-detection-api) (0.16.1)\n",
      "Requirement already satisfied: setuptools>=41.0.0 in c:\\users\\mathe\\anaconda3\\envs\\tf_2.4.0\\lib\\site-packages (from tensorboard<2.1.0,>=2.0.0->tensorflow->tensorflow-object-detection-api) (65.5.0)\n",
      "Requirement already satisfied: tornado>=6.1 in c:\\users\\mathe\\anaconda3\\envs\\tf_2.4.0\\lib\\site-packages (from ipykernel->jupyter->tensorflow-object-detection-api) (6.2)\n",
      "Requirement already satisfied: debugpy>=1.0 in c:\\users\\mathe\\anaconda3\\envs\\tf_2.4.0\\lib\\site-packages (from ipykernel->jupyter->tensorflow-object-detection-api) (1.5.1)\n",
      "Requirement already satisfied: matplotlib-inline>=0.1 in c:\\users\\mathe\\anaconda3\\envs\\tf_2.4.0\\lib\\site-packages (from ipykernel->jupyter->tensorflow-object-detection-api) (0.1.6)\n",
      "Requirement already satisfied: pyzmq>=17 in c:\\users\\mathe\\anaconda3\\envs\\tf_2.4.0\\lib\\site-packages (from ipykernel->jupyter->tensorflow-object-detection-api) (23.2.0)\n",
      "Requirement already satisfied: psutil in c:\\users\\mathe\\anaconda3\\envs\\tf_2.4.0\\lib\\site-packages (from ipykernel->jupyter->tensorflow-object-detection-api) (5.9.0)\n",
      "Requirement already satisfied: traitlets>=5.1.0 in c:\\users\\mathe\\anaconda3\\envs\\tf_2.4.0\\lib\\site-packages (from ipykernel->jupyter->tensorflow-object-detection-api) (5.1.1)\n",
      "Requirement already satisfied: nest-asyncio in c:\\users\\mathe\\anaconda3\\envs\\tf_2.4.0\\lib\\site-packages (from ipykernel->jupyter->tensorflow-object-detection-api) (1.5.5)\n",
      "Requirement already satisfied: ipython>=7.23.1 in c:\\users\\mathe\\anaconda3\\envs\\tf_2.4.0\\lib\\site-packages (from ipykernel->jupyter->tensorflow-object-detection-api) (7.31.1)\n",
      "Requirement already satisfied: jupyter-client>=6.1.12 in c:\\users\\mathe\\anaconda3\\envs\\tf_2.4.0\\lib\\site-packages (from ipykernel->jupyter->tensorflow-object-detection-api) (7.3.5)\n",
      "Requirement already satisfied: jupyterlab-widgets>=1.0.0 in c:\\users\\mathe\\anaconda3\\envs\\tf_2.4.0\\lib\\site-packages (from ipywidgets->jupyter->tensorflow-object-detection-api) (1.0.0)\n",
      "Requirement already satisfied: ipython-genutils~=0.2.0 in c:\\users\\mathe\\anaconda3\\envs\\tf_2.4.0\\lib\\site-packages (from ipywidgets->jupyter->tensorflow-object-detection-api) (0.2.0)\n",
      "Requirement already satisfied: widgetsnbextension~=3.5.0 in c:\\users\\mathe\\anaconda3\\envs\\tf_2.4.0\\lib\\site-packages (from ipywidgets->jupyter->tensorflow-object-detection-api) (3.5.2)\n",
      "Requirement already satisfied: nbformat>=4.2.0 in c:\\users\\mathe\\anaconda3\\envs\\tf_2.4.0\\lib\\site-packages (from ipywidgets->jupyter->tensorflow-object-detection-api) (5.5.0)\n",
      "Requirement already satisfied: prompt-toolkit!=3.0.0,!=3.0.1,<3.1.0,>=2.0.0 in c:\\users\\mathe\\anaconda3\\envs\\tf_2.4.0\\lib\\site-packages (from jupyter-console->jupyter->tensorflow-object-detection-api) (3.0.20)\n",
      "Requirement already satisfied: beautifulsoup4 in c:\\users\\mathe\\anaconda3\\envs\\tf_2.4.0\\lib\\site-packages (from nbconvert->jupyter->tensorflow-object-detection-api) (4.11.1)\n",
      "Requirement already satisfied: tinycss2 in c:\\users\\mathe\\anaconda3\\envs\\tf_2.4.0\\lib\\site-packages (from nbconvert->jupyter->tensorflow-object-detection-api) (1.2.1)\n",
      "Requirement already satisfied: nbclient>=0.5.0 in c:\\users\\mathe\\anaconda3\\envs\\tf_2.4.0\\lib\\site-packages (from nbconvert->jupyter->tensorflow-object-detection-api) (0.5.13)\n",
      "Requirement already satisfied: entrypoints>=0.2.2 in c:\\users\\mathe\\anaconda3\\envs\\tf_2.4.0\\lib\\site-packages (from nbconvert->jupyter->tensorflow-object-detection-api) (0.4)\n",
      "Requirement already satisfied: jupyterlab-pygments in c:\\users\\mathe\\anaconda3\\envs\\tf_2.4.0\\lib\\site-packages (from nbconvert->jupyter->tensorflow-object-detection-api) (0.1.2)\n",
      "Requirement already satisfied: jinja2>=3.0 in c:\\users\\mathe\\anaconda3\\envs\\tf_2.4.0\\lib\\site-packages (from nbconvert->jupyter->tensorflow-object-detection-api) (3.1.2)\n",
      "Requirement already satisfied: MarkupSafe>=2.0 in c:\\users\\mathe\\anaconda3\\envs\\tf_2.4.0\\lib\\site-packages (from nbconvert->jupyter->tensorflow-object-detection-api) (2.1.1)\n",
      "Requirement already satisfied: jupyter-core>=4.7 in c:\\users\\mathe\\anaconda3\\envs\\tf_2.4.0\\lib\\site-packages (from nbconvert->jupyter->tensorflow-object-detection-api) (4.11.2)\n",
      "Requirement already satisfied: pandocfilters>=1.4.1 in c:\\users\\mathe\\anaconda3\\envs\\tf_2.4.0\\lib\\site-packages (from nbconvert->jupyter->tensorflow-object-detection-api) (1.5.0)\n",
      "Requirement already satisfied: defusedxml in c:\\users\\mathe\\anaconda3\\envs\\tf_2.4.0\\lib\\site-packages (from nbconvert->jupyter->tensorflow-object-detection-api) (0.7.1)\n",
      "Requirement already satisfied: mistune<2,>=0.8.1 in c:\\users\\mathe\\anaconda3\\envs\\tf_2.4.0\\lib\\site-packages (from nbconvert->jupyter->tensorflow-object-detection-api) (0.8.4)\n",
      "Requirement already satisfied: terminado>=0.8.3 in c:\\users\\mathe\\anaconda3\\envs\\tf_2.4.0\\lib\\site-packages (from notebook->jupyter->tensorflow-object-detection-api) (0.13.1)\n",
      "Requirement already satisfied: Send2Trash>=1.8.0 in c:\\users\\mathe\\anaconda3\\envs\\tf_2.4.0\\lib\\site-packages (from notebook->jupyter->tensorflow-object-detection-api) (1.8.0)\n",
      "Requirement already satisfied: argon2-cffi in c:\\users\\mathe\\anaconda3\\envs\\tf_2.4.0\\lib\\site-packages (from notebook->jupyter->tensorflow-object-detection-api) (21.3.0)\n",
      "Requirement already satisfied: nbclassic>=0.4.7 in c:\\users\\mathe\\anaconda3\\envs\\tf_2.4.0\\lib\\site-packages (from notebook->jupyter->tensorflow-object-detection-api) (0.4.8)\n",
      "Requirement already satisfied: prometheus-client in c:\\users\\mathe\\anaconda3\\envs\\tf_2.4.0\\lib\\site-packages (from notebook->jupyter->tensorflow-object-detection-api) (0.14.1)\n",
      "Requirement already satisfied: qtpy>=2.0.1 in c:\\users\\mathe\\anaconda3\\envs\\tf_2.4.0\\lib\\site-packages (from qtconsole->jupyter->tensorflow-object-detection-api) (2.2.0)\n",
      "Requirement already satisfied: webencodings in c:\\users\\mathe\\anaconda3\\envs\\tf_2.4.0\\lib\\site-packages (from bleach>=2.1.0->readme-renderer>=35.0->twine->tensorflow-object-detection-api) (0.5.1)\n",
      "Requirement already satisfied: cachetools<5.0,>=2.0.0 in c:\\users\\mathe\\anaconda3\\envs\\tf_2.4.0\\lib\\site-packages (from google-auth<2,>=1.6.3->tensorboard<2.1.0,>=2.0.0->tensorflow->tensorflow-object-detection-api) (4.2.2)\n",
      "Requirement already satisfied: rsa<5,>=3.1.4 in c:\\users\\mathe\\anaconda3\\envs\\tf_2.4.0\\lib\\site-packages (from google-auth<2,>=1.6.3->tensorboard<2.1.0,>=2.0.0->tensorflow->tensorflow-object-detection-api) (4.7.2)\n",
      "Requirement already satisfied: pyasn1-modules>=0.2.1 in c:\\users\\mathe\\anaconda3\\envs\\tf_2.4.0\\lib\\site-packages (from google-auth<2,>=1.6.3->tensorboard<2.1.0,>=2.0.0->tensorflow->tensorflow-object-detection-api) (0.2.8)\n",
      "Requirement already satisfied: requests-oauthlib>=0.7.0 in c:\\users\\mathe\\anaconda3\\envs\\tf_2.4.0\\lib\\site-packages (from google-auth-oauthlib<0.5,>=0.4.1->tensorboard<2.1.0,>=2.0.0->tensorflow->tensorflow-object-detection-api) (1.3.0)\n",
      "Requirement already satisfied: jedi>=0.16 in c:\\users\\mathe\\anaconda3\\envs\\tf_2.4.0\\lib\\site-packages (from ipython>=7.23.1->ipykernel->jupyter->tensorflow-object-detection-api) (0.18.1)\n",
      "Requirement already satisfied: pickleshare in c:\\users\\mathe\\anaconda3\\envs\\tf_2.4.0\\lib\\site-packages (from ipython>=7.23.1->ipykernel->jupyter->tensorflow-object-detection-api) (0.7.5)\n",
      "Requirement already satisfied: backcall in c:\\users\\mathe\\anaconda3\\envs\\tf_2.4.0\\lib\\site-packages (from ipython>=7.23.1->ipykernel->jupyter->tensorflow-object-detection-api) (0.2.0)\n",
      "Requirement already satisfied: colorama in c:\\users\\mathe\\anaconda3\\envs\\tf_2.4.0\\lib\\site-packages (from ipython>=7.23.1->ipykernel->jupyter->tensorflow-object-detection-api) (0.4.5)\n",
      "Requirement already satisfied: decorator in c:\\users\\mathe\\anaconda3\\envs\\tf_2.4.0\\lib\\site-packages (from ipython>=7.23.1->ipykernel->jupyter->tensorflow-object-detection-api) (5.1.1)\n",
      "Requirement already satisfied: pywin32>=1.0 in c:\\users\\mathe\\anaconda3\\envs\\tf_2.4.0\\lib\\site-packages (from jupyter-core>=4.7->nbconvert->jupyter->tensorflow-object-detection-api) (302)\n",
      "Requirement already satisfied: notebook-shim>=0.1.0 in c:\\users\\mathe\\anaconda3\\envs\\tf_2.4.0\\lib\\site-packages (from nbclassic>=0.4.7->notebook->jupyter->tensorflow-object-detection-api) (0.2.2)\n",
      "Requirement already satisfied: jupyter-server>=1.8 in c:\\users\\mathe\\anaconda3\\envs\\tf_2.4.0\\lib\\site-packages (from nbclassic>=0.4.7->notebook->jupyter->tensorflow-object-detection-api) (1.18.1)\n",
      "Requirement already satisfied: jsonschema>=2.6 in c:\\users\\mathe\\anaconda3\\envs\\tf_2.4.0\\lib\\site-packages (from nbformat>=4.2.0->ipywidgets->jupyter->tensorflow-object-detection-api) (4.16.0)\n",
      "Requirement already satisfied: fastjsonschema in c:\\users\\mathe\\anaconda3\\envs\\tf_2.4.0\\lib\\site-packages (from nbformat>=4.2.0->ipywidgets->jupyter->tensorflow-object-detection-api) (2.16.2)\n",
      "Requirement already satisfied: wcwidth in c:\\users\\mathe\\anaconda3\\envs\\tf_2.4.0\\lib\\site-packages (from prompt-toolkit!=3.0.0,!=3.0.1,<3.1.0,>=2.0.0->jupyter-console->jupyter->tensorflow-object-detection-api) (0.2.5)\n",
      "Requirement already satisfied: pywinpty>=1.1.0 in c:\\users\\mathe\\anaconda3\\envs\\tf_2.4.0\\lib\\site-packages (from terminado>=0.8.3->notebook->jupyter->tensorflow-object-detection-api) (2.0.2)\n",
      "Requirement already satisfied: argon2-cffi-bindings in c:\\users\\mathe\\anaconda3\\envs\\tf_2.4.0\\lib\\site-packages (from argon2-cffi->notebook->jupyter->tensorflow-object-detection-api) (21.2.0)\n",
      "Requirement already satisfied: soupsieve>1.2 in c:\\users\\mathe\\anaconda3\\envs\\tf_2.4.0\\lib\\site-packages (from beautifulsoup4->nbconvert->jupyter->tensorflow-object-detection-api) (2.3.2.post1)\n",
      "Requirement already satisfied: more-itertools in c:\\users\\mathe\\anaconda3\\envs\\tf_2.4.0\\lib\\site-packages (from jaraco.classes->keyring>=15.1->twine->tensorflow-object-detection-api) (9.0.0)\n",
      "Requirement already satisfied: parso<0.9.0,>=0.8.0 in c:\\users\\mathe\\anaconda3\\envs\\tf_2.4.0\\lib\\site-packages (from jedi>=0.16->ipython>=7.23.1->ipykernel->jupyter->tensorflow-object-detection-api) (0.8.3)\n",
      "Requirement already satisfied: importlib-resources>=1.4.0 in c:\\users\\mathe\\anaconda3\\envs\\tf_2.4.0\\lib\\site-packages (from jsonschema>=2.6->nbformat>=4.2.0->ipywidgets->jupyter->tensorflow-object-detection-api) (5.2.0)\n",
      "Requirement already satisfied: pkgutil-resolve-name>=1.3.10 in c:\\users\\mathe\\anaconda3\\envs\\tf_2.4.0\\lib\\site-packages (from jsonschema>=2.6->nbformat>=4.2.0->ipywidgets->jupyter->tensorflow-object-detection-api) (1.3.10)\n",
      "Requirement already satisfied: attrs>=17.4.0 in c:\\users\\mathe\\anaconda3\\envs\\tf_2.4.0\\lib\\site-packages (from jsonschema>=2.6->nbformat>=4.2.0->ipywidgets->jupyter->tensorflow-object-detection-api) (22.1.0)\n",
      "Requirement already satisfied: pyrsistent!=0.17.0,!=0.17.1,!=0.17.2,>=0.14.0 in c:\\users\\mathe\\anaconda3\\envs\\tf_2.4.0\\lib\\site-packages (from jsonschema>=2.6->nbformat>=4.2.0->ipywidgets->jupyter->tensorflow-object-detection-api) (0.18.0)\n",
      "Requirement already satisfied: websocket-client in c:\\users\\mathe\\anaconda3\\envs\\tf_2.4.0\\lib\\site-packages (from jupyter-server>=1.8->nbclassic>=0.4.7->notebook->jupyter->tensorflow-object-detection-api) (0.58.0)\n",
      "Requirement already satisfied: anyio<4,>=3.1.0 in c:\\users\\mathe\\anaconda3\\envs\\tf_2.4.0\\lib\\site-packages (from jupyter-server>=1.8->nbclassic>=0.4.7->notebook->jupyter->tensorflow-object-detection-api) (3.5.0)\n",
      "Requirement already satisfied: pyasn1<0.5.0,>=0.4.6 in c:\\users\\mathe\\anaconda3\\envs\\tf_2.4.0\\lib\\site-packages (from pyasn1-modules>=0.2.1->google-auth<2,>=1.6.3->tensorboard<2.1.0,>=2.0.0->tensorflow->tensorflow-object-detection-api) (0.4.8)\n",
      "Requirement already satisfied: oauthlib>=3.0.0 in c:\\users\\mathe\\anaconda3\\envs\\tf_2.4.0\\lib\\site-packages (from requests-oauthlib>=0.7.0->google-auth-oauthlib<0.5,>=0.4.1->tensorboard<2.1.0,>=2.0.0->tensorflow->tensorflow-object-detection-api) (3.2.1)\n",
      "Requirement already satisfied: cffi>=1.0.1 in c:\\users\\mathe\\anaconda3\\envs\\tf_2.4.0\\lib\\site-packages (from argon2-cffi-bindings->argon2-cffi->notebook->jupyter->tensorflow-object-detection-api) (1.15.1)\n",
      "Requirement already satisfied: sniffio>=1.1 in c:\\users\\mathe\\anaconda3\\envs\\tf_2.4.0\\lib\\site-packages (from anyio<4,>=3.1.0->jupyter-server>=1.8->nbclassic>=0.4.7->notebook->jupyter->tensorflow-object-detection-api) (1.2.0)\n",
      "Requirement already satisfied: pycparser in c:\\users\\mathe\\anaconda3\\envs\\tf_2.4.0\\lib\\site-packages (from cffi>=1.0.1->argon2-cffi-bindings->argon2-cffi->notebook->jupyter->tensorflow-object-detection-api) (2.21)\n"
     ]
    }
   ],
   "source": [
    "!pip install tensorflow-object-detection-api\n"
   ]
  },
  {
   "cell_type": "code",
   "execution_count": 7,
   "metadata": {},
   "outputs": [
    {
     "name": "stdout",
     "output_type": "stream",
     "text": [
      "Collecting pandas\n",
      "  Downloading pandas-1.3.5-cp37-cp37m-win_amd64.whl (10.0 MB)\n",
      "     ---------------------------------------- 10.0/10.0 MB 1.2 MB/s eta 0:00:00\n",
      "Requirement already satisfied: pytz>=2017.3 in c:\\users\\mathe\\anaconda3\\envs\\tf_2.4.0\\lib\\site-packages (from pandas) (2022.1)\n",
      "Requirement already satisfied: python-dateutil>=2.7.3 in c:\\users\\mathe\\anaconda3\\envs\\tf_2.4.0\\lib\\site-packages (from pandas) (2.8.2)\n",
      "Requirement already satisfied: numpy>=1.17.3 in c:\\users\\mathe\\anaconda3\\envs\\tf_2.4.0\\lib\\site-packages (from pandas) (1.21.5)\n",
      "Requirement already satisfied: six>=1.5 in c:\\users\\mathe\\anaconda3\\envs\\tf_2.4.0\\lib\\site-packages (from python-dateutil>=2.7.3->pandas) (1.16.0)\n",
      "Installing collected packages: pandas\n",
      "Successfully installed pandas-1.3.5\n"
     ]
    }
   ],
   "source": [
    "!pip install pandas"
   ]
  },
  {
   "cell_type": "code",
   "execution_count": 52,
   "metadata": {
    "scrolled": true
   },
   "outputs": [
    {
     "name": "stdout",
     "output_type": "stream",
     "text": [
      "Successfully created the TFRecord file: Tensorflow/workspace/annotations/train.record\n",
      "Successfully created the TFRecord file: Tensorflow/workspace/annotations/test.record\n"
     ]
    }
   ],
   "source": [
    "!python {SCRIPTS_PATH + '/generate_tfrecord.py'} -x {IMAGE_PATH + '/train'} -l {ANNOTATION_PATH + '/label_map.pbtxt'} -o {ANNOTATION_PATH + '/train.record'}\n",
    "!python {SCRIPTS_PATH + '/generate_tfrecord.py'} -x {IMAGE_PATH + '/test'} -l {ANNOTATION_PATH + '/label_map.pbtxt'} -o {ANNOTATION_PATH + '/test.record'}"
   ]
  },
  {
   "cell_type": "code",
   "execution_count": 24,
   "metadata": {},
   "outputs": [
    {
     "name": "stdout",
     "output_type": "stream",
     "text": [
      "[WinError 123] The filename, directory name, or volume label syntax is incorrect: 'Tensorflow && git clone https://github.com/tensorflow/models'\n",
      "F:\\Projects\\RealTimeSignLanguageDetectionwithTFJS\n"
     ]
    }
   ],
   "source": [
    "%cd Tensorflow && git clone https://github.com/tensorflow/models"
   ]
  },
  {
   "cell_type": "markdown",
   "metadata": {},
   "source": [
    "# 3. Download TF Models Pretrained Models from Tensorflow Model Zoo"
   ]
  },
  {
   "cell_type": "code",
   "execution_count": null,
   "metadata": {},
   "outputs": [],
   "source": [
    "%pip install --upgrade pip"
   ]
  },
  {
   "cell_type": "code",
   "execution_count": null,
   "metadata": {},
   "outputs": [],
   "source": [
    "%pip install git"
   ]
  },
  {
   "cell_type": "code",
   "execution_count": 2,
   "metadata": {},
   "outputs": [
    {
     "name": "stderr",
     "output_type": "stream",
     "text": [
      "'mv' is not recognized as an internal or external command,\n",
      "operable program or batch file.\n",
      "The system cannot find the path specified.\n"
     ]
    }
   ],
   "source": [
    "# wget.download('http://download.tensorflow.org/models/object_detection/tf2/20200711/ssd_mobilenet_v2_fpnlite_320x320_coco17_tpu-8.tar.gz')\n",
    "!mv ssd_mobilenet_v2_fpnlite_320x320_coco17_tpu-8.tar.gz {PRETRAINED_MODEL_PATH}\n",
    "!cd {PRETRAINED_MODEL_PATH} && tar -zxvf ssd_mobilenet_v2_fpnlite_320x320_coco17_tpu-8.tar.gz"
   ]
  },
  {
   "cell_type": "markdown",
   "metadata": {},
   "source": [
    "# 4. Copy Model Config to Training Folder"
   ]
  },
  {
   "cell_type": "code",
   "execution_count": 53,
   "metadata": {},
   "outputs": [],
   "source": [
    "CUSTOM_MODEL_NAME = 'my_ssd_mobnet' "
   ]
  },
  {
   "cell_type": "code",
   "execution_count": 8,
   "metadata": {},
   "outputs": [
    {
     "name": "stderr",
     "output_type": "stream",
     "text": [
      "A subdirectory or file Tensorflow\\workspace\\models\\my_ssd_mobnet already exists.\n",
      "'cp' is not recognized as an internal or external command,\n",
      "operable program or batch file.\n"
     ]
    }
   ],
   "source": [
    "!mkdir {'Tensorflow\\workspace\\models\\\\'+CUSTOM_MODEL_NAME}\n",
    "!cp {PRETRAINED_MODEL_PATH+'/ssd_mobilenet_v2_fpnlite_320x320_coco17_tpu-8/pipeline.config'} {MODEL_PATH+'/'+CUSTOM_MODEL_NAME}"
   ]
  },
  {
   "cell_type": "markdown",
   "metadata": {},
   "source": [
    "# 5. Update Config For Transfer Learning"
   ]
  },
  {
   "cell_type": "code",
   "execution_count": 34,
   "metadata": {},
   "outputs": [],
   "source": [
    "import tensorflow as tf\n",
    "from object_detection.utils import config_util\n",
    "from object_detection.protos import pipeline_pb2\n",
    "from google.protobuf import text_format"
   ]
  },
  {
   "cell_type": "code",
   "execution_count": 35,
   "metadata": {},
   "outputs": [],
   "source": [
    "CONFIG_PATH = MODEL_PATH+'/'+CUSTOM_MODEL_NAME+'/pipeline.config'"
   ]
  },
  {
   "cell_type": "code",
   "execution_count": 36,
   "metadata": {},
   "outputs": [
    {
     "ename": "AttributeError",
     "evalue": "module 'tensorflow' has no attribute 'gfile'",
     "output_type": "error",
     "traceback": [
      "\u001b[1;31m---------------------------------------------------------------------------\u001b[0m",
      "\u001b[1;31mAttributeError\u001b[0m                            Traceback (most recent call last)",
      "\u001b[1;32m~\\AppData\\Local\\Temp\\ipykernel_14684\\2792951555.py\u001b[0m in \u001b[0;36m<module>\u001b[1;34m\u001b[0m\n\u001b[1;32m----> 1\u001b[1;33m \u001b[0mconfig\u001b[0m \u001b[1;33m=\u001b[0m \u001b[0mconfig_util\u001b[0m\u001b[1;33m.\u001b[0m\u001b[0mget_configs_from_pipeline_file\u001b[0m\u001b[1;33m(\u001b[0m\u001b[0mCONFIG_PATH\u001b[0m\u001b[1;33m)\u001b[0m\u001b[1;33m\u001b[0m\u001b[1;33m\u001b[0m\u001b[0m\n\u001b[0m",
      "\u001b[1;32m~\\anaconda3\\envs\\tf_2.4.0\\lib\\site-packages\\object_detection\\utils\\config_util.py\u001b[0m in \u001b[0;36mget_configs_from_pipeline_file\u001b[1;34m(pipeline_config_path, config_override)\u001b[0m\n\u001b[0;32m     94\u001b[0m   \"\"\"\n\u001b[0;32m     95\u001b[0m   \u001b[0mpipeline_config\u001b[0m \u001b[1;33m=\u001b[0m \u001b[0mpipeline_pb2\u001b[0m\u001b[1;33m.\u001b[0m\u001b[0mTrainEvalPipelineConfig\u001b[0m\u001b[1;33m(\u001b[0m\u001b[1;33m)\u001b[0m\u001b[1;33m\u001b[0m\u001b[1;33m\u001b[0m\u001b[0m\n\u001b[1;32m---> 96\u001b[1;33m   \u001b[1;32mwith\u001b[0m \u001b[0mtf\u001b[0m\u001b[1;33m.\u001b[0m\u001b[0mio\u001b[0m\u001b[1;33m.\u001b[0m\u001b[0mgfile\u001b[0m\u001b[1;33m.\u001b[0m\u001b[0mGFile\u001b[0m\u001b[1;33m(\u001b[0m\u001b[0mpipeline_config_path\u001b[0m\u001b[1;33m,\u001b[0m \u001b[1;34m\"r\"\u001b[0m\u001b[1;33m)\u001b[0m \u001b[1;32mas\u001b[0m \u001b[0mf\u001b[0m\u001b[1;33m:\u001b[0m\u001b[1;33m\u001b[0m\u001b[1;33m\u001b[0m\u001b[0m\n\u001b[0m\u001b[0;32m     97\u001b[0m     \u001b[0mproto_str\u001b[0m \u001b[1;33m=\u001b[0m \u001b[0mf\u001b[0m\u001b[1;33m.\u001b[0m\u001b[0mread\u001b[0m\u001b[1;33m(\u001b[0m\u001b[1;33m)\u001b[0m\u001b[1;33m\u001b[0m\u001b[1;33m\u001b[0m\u001b[0m\n\u001b[0;32m     98\u001b[0m     \u001b[0mtext_format\u001b[0m\u001b[1;33m.\u001b[0m\u001b[0mMerge\u001b[0m\u001b[1;33m(\u001b[0m\u001b[0mproto_str\u001b[0m\u001b[1;33m,\u001b[0m \u001b[0mpipeline_config\u001b[0m\u001b[1;33m)\u001b[0m\u001b[1;33m\u001b[0m\u001b[1;33m\u001b[0m\u001b[0m\n",
      "\u001b[1;31mAttributeError\u001b[0m: module 'tensorflow' has no attribute 'gfile'"
     ]
    }
   ],
   "source": [
    "config = config_util.get_configs_from_pipeline_file(CONFIG_PATH)"
   ]
  },
  {
   "cell_type": "code",
   "execution_count": null,
   "metadata": {},
   "outputs": [],
   "source": []
  },
  {
   "cell_type": "code",
   "execution_count": 28,
   "metadata": {},
   "outputs": [
    {
     "name": "stdout",
     "output_type": "stream",
     "text": [
      "Available objects for config:\n",
      "     AliasManager\n",
      "     DisplayFormatter\n",
      "     HistoryManager\n",
      "     IPCompleter\n",
      "     IPKernelApp\n",
      "     LoggingMagics\n",
      "     MagicsManager\n",
      "     OSMagics\n",
      "     PrefilterManager\n",
      "     ScriptMagics\n",
      "     StoreMagics\n",
      "     ZMQInteractiveShell\n"
     ]
    }
   ],
   "source": [
    "config"
   ]
  },
  {
   "cell_type": "code",
   "execution_count": 29,
   "metadata": {},
   "outputs": [
    {
     "ename": "ParseError",
     "evalue": "172:3 : Message type \"object_detection.protos.TrainConfig\" has no field named \"fine_tune_checkpoint_version\".",
     "output_type": "error",
     "traceback": [
      "\u001b[1;31m---------------------------------------------------------------------------\u001b[0m",
      "\u001b[1;31mParseError\u001b[0m                                Traceback (most recent call last)",
      "\u001b[1;32m~\\AppData\\Local\\Temp\\ipykernel_14684\\1998878927.py\u001b[0m in \u001b[0;36m<module>\u001b[1;34m\u001b[0m\n\u001b[0;32m      2\u001b[0m \u001b[1;32mwith\u001b[0m \u001b[0mtf\u001b[0m\u001b[1;33m.\u001b[0m\u001b[0mio\u001b[0m\u001b[1;33m.\u001b[0m\u001b[0mgfile\u001b[0m\u001b[1;33m.\u001b[0m\u001b[0mGFile\u001b[0m\u001b[1;33m(\u001b[0m\u001b[0mCONFIG_PATH\u001b[0m\u001b[1;33m,\u001b[0m \u001b[1;34m\"r\"\u001b[0m\u001b[1;33m)\u001b[0m \u001b[1;32mas\u001b[0m \u001b[0mf\u001b[0m\u001b[1;33m:\u001b[0m\u001b[1;33m\u001b[0m\u001b[1;33m\u001b[0m\u001b[0m\n\u001b[0;32m      3\u001b[0m     \u001b[0mproto_str\u001b[0m \u001b[1;33m=\u001b[0m \u001b[0mf\u001b[0m\u001b[1;33m.\u001b[0m\u001b[0mread\u001b[0m\u001b[1;33m(\u001b[0m\u001b[1;33m)\u001b[0m\u001b[1;33m\u001b[0m\u001b[1;33m\u001b[0m\u001b[0m\n\u001b[1;32m----> 4\u001b[1;33m     \u001b[0mtext_format\u001b[0m\u001b[1;33m.\u001b[0m\u001b[0mMerge\u001b[0m\u001b[1;33m(\u001b[0m\u001b[0mproto_str\u001b[0m\u001b[1;33m,\u001b[0m \u001b[0mpipeline_config\u001b[0m\u001b[1;33m)\u001b[0m\u001b[1;33m\u001b[0m\u001b[1;33m\u001b[0m\u001b[0m\n\u001b[0m",
      "\u001b[1;32m~\\anaconda3\\envs\\tf_2.4.0\\lib\\site-packages\\google\\protobuf\\text_format.py\u001b[0m in \u001b[0;36mMerge\u001b[1;34m(text, message, allow_unknown_extension, allow_field_number, descriptor_pool, allow_unknown_field)\u001b[0m\n\u001b[0;32m    723\u001b[0m       \u001b[0mallow_field_number\u001b[0m\u001b[1;33m,\u001b[0m\u001b[1;33m\u001b[0m\u001b[1;33m\u001b[0m\u001b[0m\n\u001b[0;32m    724\u001b[0m       \u001b[0mdescriptor_pool\u001b[0m\u001b[1;33m=\u001b[0m\u001b[0mdescriptor_pool\u001b[0m\u001b[1;33m,\u001b[0m\u001b[1;33m\u001b[0m\u001b[1;33m\u001b[0m\u001b[0m\n\u001b[1;32m--> 725\u001b[1;33m       allow_unknown_field=allow_unknown_field)\n\u001b[0m\u001b[0;32m    726\u001b[0m \u001b[1;33m\u001b[0m\u001b[0m\n\u001b[0;32m    727\u001b[0m \u001b[1;33m\u001b[0m\u001b[0m\n",
      "\u001b[1;32m~\\anaconda3\\envs\\tf_2.4.0\\lib\\site-packages\\google\\protobuf\\text_format.py\u001b[0m in \u001b[0;36mMergeLines\u001b[1;34m(lines, message, allow_unknown_extension, allow_field_number, descriptor_pool, allow_unknown_field)\u001b[0m\n\u001b[0;32m    791\u001b[0m                    \u001b[0mdescriptor_pool\u001b[0m\u001b[1;33m=\u001b[0m\u001b[0mdescriptor_pool\u001b[0m\u001b[1;33m,\u001b[0m\u001b[1;33m\u001b[0m\u001b[1;33m\u001b[0m\u001b[0m\n\u001b[0;32m    792\u001b[0m                    allow_unknown_field=allow_unknown_field)\n\u001b[1;32m--> 793\u001b[1;33m   \u001b[1;32mreturn\u001b[0m \u001b[0mparser\u001b[0m\u001b[1;33m.\u001b[0m\u001b[0mMergeLines\u001b[0m\u001b[1;33m(\u001b[0m\u001b[0mlines\u001b[0m\u001b[1;33m,\u001b[0m \u001b[0mmessage\u001b[0m\u001b[1;33m)\u001b[0m\u001b[1;33m\u001b[0m\u001b[1;33m\u001b[0m\u001b[0m\n\u001b[0m\u001b[0;32m    794\u001b[0m \u001b[1;33m\u001b[0m\u001b[0m\n\u001b[0;32m    795\u001b[0m \u001b[1;33m\u001b[0m\u001b[0m\n",
      "\u001b[1;32m~\\anaconda3\\envs\\tf_2.4.0\\lib\\site-packages\\google\\protobuf\\text_format.py\u001b[0m in \u001b[0;36mMergeLines\u001b[1;34m(self, lines, message)\u001b[0m\n\u001b[0;32m    816\u001b[0m     \u001b[1;34m\"\"\"Merges a text representation of a protocol message into a message.\"\"\"\u001b[0m\u001b[1;33m\u001b[0m\u001b[1;33m\u001b[0m\u001b[0m\n\u001b[0;32m    817\u001b[0m     \u001b[0mself\u001b[0m\u001b[1;33m.\u001b[0m\u001b[0m_allow_multiple_scalars\u001b[0m \u001b[1;33m=\u001b[0m \u001b[1;32mTrue\u001b[0m\u001b[1;33m\u001b[0m\u001b[1;33m\u001b[0m\u001b[0m\n\u001b[1;32m--> 818\u001b[1;33m     \u001b[0mself\u001b[0m\u001b[1;33m.\u001b[0m\u001b[0m_ParseOrMerge\u001b[0m\u001b[1;33m(\u001b[0m\u001b[0mlines\u001b[0m\u001b[1;33m,\u001b[0m \u001b[0mmessage\u001b[0m\u001b[1;33m)\u001b[0m\u001b[1;33m\u001b[0m\u001b[1;33m\u001b[0m\u001b[0m\n\u001b[0m\u001b[0;32m    819\u001b[0m     \u001b[1;32mreturn\u001b[0m \u001b[0mmessage\u001b[0m\u001b[1;33m\u001b[0m\u001b[1;33m\u001b[0m\u001b[0m\n\u001b[0;32m    820\u001b[0m \u001b[1;33m\u001b[0m\u001b[0m\n",
      "\u001b[1;32m~\\anaconda3\\envs\\tf_2.4.0\\lib\\site-packages\\google\\protobuf\\text_format.py\u001b[0m in \u001b[0;36m_ParseOrMerge\u001b[1;34m(self, lines, message)\u001b[0m\n\u001b[0;32m    835\u001b[0m     \u001b[0mtokenizer\u001b[0m \u001b[1;33m=\u001b[0m \u001b[0mTokenizer\u001b[0m\u001b[1;33m(\u001b[0m\u001b[0mstr_lines\u001b[0m\u001b[1;33m)\u001b[0m\u001b[1;33m\u001b[0m\u001b[1;33m\u001b[0m\u001b[0m\n\u001b[0;32m    836\u001b[0m     \u001b[1;32mwhile\u001b[0m \u001b[1;32mnot\u001b[0m \u001b[0mtokenizer\u001b[0m\u001b[1;33m.\u001b[0m\u001b[0mAtEnd\u001b[0m\u001b[1;33m(\u001b[0m\u001b[1;33m)\u001b[0m\u001b[1;33m:\u001b[0m\u001b[1;33m\u001b[0m\u001b[1;33m\u001b[0m\u001b[0m\n\u001b[1;32m--> 837\u001b[1;33m       \u001b[0mself\u001b[0m\u001b[1;33m.\u001b[0m\u001b[0m_MergeField\u001b[0m\u001b[1;33m(\u001b[0m\u001b[0mtokenizer\u001b[0m\u001b[1;33m,\u001b[0m \u001b[0mmessage\u001b[0m\u001b[1;33m)\u001b[0m\u001b[1;33m\u001b[0m\u001b[1;33m\u001b[0m\u001b[0m\n\u001b[0m\u001b[0;32m    838\u001b[0m \u001b[1;33m\u001b[0m\u001b[0m\n\u001b[0;32m    839\u001b[0m   \u001b[1;32mdef\u001b[0m \u001b[0m_MergeField\u001b[0m\u001b[1;33m(\u001b[0m\u001b[0mself\u001b[0m\u001b[1;33m,\u001b[0m \u001b[0mtokenizer\u001b[0m\u001b[1;33m,\u001b[0m \u001b[0mmessage\u001b[0m\u001b[1;33m)\u001b[0m\u001b[1;33m:\u001b[0m\u001b[1;33m\u001b[0m\u001b[1;33m\u001b[0m\u001b[0m\n",
      "\u001b[1;32m~\\anaconda3\\envs\\tf_2.4.0\\lib\\site-packages\\google\\protobuf\\text_format.py\u001b[0m in \u001b[0;36m_MergeField\u001b[1;34m(self, tokenizer, message)\u001b[0m\n\u001b[0;32m    965\u001b[0m \u001b[1;33m\u001b[0m\u001b[0m\n\u001b[0;32m    966\u001b[0m       \u001b[1;32melse\u001b[0m\u001b[1;33m:\u001b[0m\u001b[1;33m\u001b[0m\u001b[1;33m\u001b[0m\u001b[0m\n\u001b[1;32m--> 967\u001b[1;33m         \u001b[0mmerger\u001b[0m\u001b[1;33m(\u001b[0m\u001b[0mtokenizer\u001b[0m\u001b[1;33m,\u001b[0m \u001b[0mmessage\u001b[0m\u001b[1;33m,\u001b[0m \u001b[0mfield\u001b[0m\u001b[1;33m)\u001b[0m\u001b[1;33m\u001b[0m\u001b[1;33m\u001b[0m\u001b[0m\n\u001b[0m\u001b[0;32m    968\u001b[0m \u001b[1;33m\u001b[0m\u001b[0m\n\u001b[0;32m    969\u001b[0m     \u001b[1;32melse\u001b[0m\u001b[1;33m:\u001b[0m  \u001b[1;31m# Proto field is unknown.\u001b[0m\u001b[1;33m\u001b[0m\u001b[1;33m\u001b[0m\u001b[0m\n",
      "\u001b[1;32m~\\anaconda3\\envs\\tf_2.4.0\\lib\\site-packages\\google\\protobuf\\text_format.py\u001b[0m in \u001b[0;36m_MergeMessageField\u001b[1;34m(self, tokenizer, message, field)\u001b[0m\n\u001b[0;32m   1040\u001b[0m       \u001b[1;32mif\u001b[0m \u001b[0mtokenizer\u001b[0m\u001b[1;33m.\u001b[0m\u001b[0mAtEnd\u001b[0m\u001b[1;33m(\u001b[0m\u001b[1;33m)\u001b[0m\u001b[1;33m:\u001b[0m\u001b[1;33m\u001b[0m\u001b[1;33m\u001b[0m\u001b[0m\n\u001b[0;32m   1041\u001b[0m         \u001b[1;32mraise\u001b[0m \u001b[0mtokenizer\u001b[0m\u001b[1;33m.\u001b[0m\u001b[0mParseErrorPreviousToken\u001b[0m\u001b[1;33m(\u001b[0m\u001b[1;34m'Expected \"%s\".'\u001b[0m \u001b[1;33m%\u001b[0m \u001b[1;33m(\u001b[0m\u001b[0mend_token\u001b[0m\u001b[1;33m,\u001b[0m\u001b[1;33m)\u001b[0m\u001b[1;33m)\u001b[0m\u001b[1;33m\u001b[0m\u001b[1;33m\u001b[0m\u001b[0m\n\u001b[1;32m-> 1042\u001b[1;33m       \u001b[0mself\u001b[0m\u001b[1;33m.\u001b[0m\u001b[0m_MergeField\u001b[0m\u001b[1;33m(\u001b[0m\u001b[0mtokenizer\u001b[0m\u001b[1;33m,\u001b[0m \u001b[0msub_message\u001b[0m\u001b[1;33m)\u001b[0m\u001b[1;33m\u001b[0m\u001b[1;33m\u001b[0m\u001b[0m\n\u001b[0m\u001b[0;32m   1043\u001b[0m \u001b[1;33m\u001b[0m\u001b[0m\n\u001b[0;32m   1044\u001b[0m     \u001b[1;32mif\u001b[0m \u001b[0mis_map_entry\u001b[0m\u001b[1;33m:\u001b[0m\u001b[1;33m\u001b[0m\u001b[1;33m\u001b[0m\u001b[0m\n",
      "\u001b[1;32m~\\anaconda3\\envs\\tf_2.4.0\\lib\\site-packages\\google\\protobuf\\text_format.py\u001b[0m in \u001b[0;36m_MergeField\u001b[1;34m(self, tokenizer, message)\u001b[0m\n\u001b[0;32m    932\u001b[0m         raise tokenizer.ParseErrorPreviousToken(\n\u001b[0;32m    933\u001b[0m             \u001b[1;34m'Message type \"%s\" has no field named \"%s\".'\u001b[0m \u001b[1;33m%\u001b[0m\u001b[1;33m\u001b[0m\u001b[1;33m\u001b[0m\u001b[0m\n\u001b[1;32m--> 934\u001b[1;33m             (message_descriptor.full_name, name))\n\u001b[0m\u001b[0;32m    935\u001b[0m \u001b[1;33m\u001b[0m\u001b[0m\n\u001b[0;32m    936\u001b[0m     \u001b[1;32mif\u001b[0m \u001b[0mfield\u001b[0m\u001b[1;33m:\u001b[0m\u001b[1;33m\u001b[0m\u001b[1;33m\u001b[0m\u001b[0m\n",
      "\u001b[1;31mParseError\u001b[0m: 172:3 : Message type \"object_detection.protos.TrainConfig\" has no field named \"fine_tune_checkpoint_version\"."
     ]
    }
   ],
   "source": [
    "pipeline_config = pipeline_pb2.TrainEvalPipelineConfig()\n",
    "with tf.io.gfile.GFile(CONFIG_PATH, \"r\") as f:                                                                                                                                                                                                                     \n",
    "    proto_str = f.read()                                                                                                                                                                                                                                          \n",
    "    text_format.Merge(proto_str, pipeline_config)  "
   ]
  },
  {
   "cell_type": "code",
   "execution_count": 37,
   "metadata": {},
   "outputs": [
    {
     "data": {
      "text/plain": [
       "5"
      ]
     },
     "execution_count": 37,
     "metadata": {},
     "output_type": "execute_result"
    }
   ],
   "source": [
    "### CHANGE\n",
    "len(labels)"
   ]
  },
  {
   "cell_type": "code",
   "execution_count": 40,
   "metadata": {},
   "outputs": [
    {
     "ename": "IndexError",
     "evalue": "list index out of range",
     "output_type": "error",
     "traceback": [
      "\u001b[1;31m---------------------------------------------------------------------------\u001b[0m",
      "\u001b[1;31mIndexError\u001b[0m                                Traceback (most recent call last)",
      "\u001b[1;32m~\\AppData\\Local\\Temp\\ipykernel_14684\\3038885143.py\u001b[0m in \u001b[0;36m<module>\u001b[1;34m\u001b[0m\n\u001b[0;32m      5\u001b[0m \u001b[0mpipeline_config\u001b[0m\u001b[1;33m.\u001b[0m\u001b[0mtrain_input_reader\u001b[0m\u001b[1;33m.\u001b[0m\u001b[0mlabel_map_path\u001b[0m\u001b[1;33m=\u001b[0m \u001b[0mANNOTATION_PATH\u001b[0m \u001b[1;33m+\u001b[0m \u001b[1;34m'/label_map.pbtxt'\u001b[0m\u001b[1;33m\u001b[0m\u001b[1;33m\u001b[0m\u001b[0m\n\u001b[0;32m      6\u001b[0m \u001b[0mpipeline_config\u001b[0m\u001b[1;33m.\u001b[0m\u001b[0mtrain_input_reader\u001b[0m\u001b[1;33m.\u001b[0m\u001b[0mtf_record_input_reader\u001b[0m\u001b[1;33m.\u001b[0m\u001b[0minput_path\u001b[0m\u001b[1;33m[\u001b[0m\u001b[1;33m:\u001b[0m\u001b[1;33m]\u001b[0m \u001b[1;33m=\u001b[0m \u001b[1;33m[\u001b[0m\u001b[0mANNOTATION_PATH\u001b[0m \u001b[1;33m+\u001b[0m \u001b[1;34m'/train.record'\u001b[0m\u001b[1;33m]\u001b[0m\u001b[1;33m\u001b[0m\u001b[1;33m\u001b[0m\u001b[0m\n\u001b[1;32m----> 7\u001b[1;33m \u001b[0mpipeline_config\u001b[0m\u001b[1;33m.\u001b[0m\u001b[0meval_input_reader\u001b[0m\u001b[1;33m[\u001b[0m\u001b[1;36m0\u001b[0m\u001b[1;33m]\u001b[0m\u001b[1;33m.\u001b[0m\u001b[0mlabel_map_path\u001b[0m \u001b[1;33m=\u001b[0m \u001b[0mANNOTATION_PATH\u001b[0m \u001b[1;33m+\u001b[0m \u001b[1;34m'/label_map.pbtxt'\u001b[0m\u001b[1;33m\u001b[0m\u001b[1;33m\u001b[0m\u001b[0m\n\u001b[0m\u001b[0;32m      8\u001b[0m \u001b[0mpipeline_config\u001b[0m\u001b[1;33m.\u001b[0m\u001b[0meval_input_reader\u001b[0m\u001b[1;33m[\u001b[0m\u001b[1;36m0\u001b[0m\u001b[1;33m]\u001b[0m\u001b[1;33m.\u001b[0m\u001b[0mtf_record_input_reader\u001b[0m\u001b[1;33m.\u001b[0m\u001b[0minput_path\u001b[0m\u001b[1;33m[\u001b[0m\u001b[1;33m:\u001b[0m\u001b[1;33m]\u001b[0m \u001b[1;33m=\u001b[0m \u001b[1;33m[\u001b[0m\u001b[0mANNOTATION_PATH\u001b[0m \u001b[1;33m+\u001b[0m \u001b[1;34m'/test.record'\u001b[0m\u001b[1;33m]\u001b[0m\u001b[1;33m\u001b[0m\u001b[1;33m\u001b[0m\u001b[0m\n",
      "\u001b[1;32m~\\anaconda3\\envs\\tf_2.4.0\\lib\\site-packages\\google\\protobuf\\internal\\containers.py\u001b[0m in \u001b[0;36m__getitem__\u001b[1;34m(self, key)\u001b[0m\n\u001b[0;32m     91\u001b[0m   \u001b[1;32mdef\u001b[0m \u001b[0m__getitem__\u001b[0m\u001b[1;33m(\u001b[0m\u001b[0mself\u001b[0m\u001b[1;33m,\u001b[0m \u001b[0mkey\u001b[0m\u001b[1;33m)\u001b[0m\u001b[1;33m:\u001b[0m\u001b[1;33m\u001b[0m\u001b[1;33m\u001b[0m\u001b[0m\n\u001b[0;32m     92\u001b[0m     \u001b[1;34m\"\"\"Retrieves item by the specified key.\"\"\"\u001b[0m\u001b[1;33m\u001b[0m\u001b[1;33m\u001b[0m\u001b[0m\n\u001b[1;32m---> 93\u001b[1;33m     \u001b[1;32mreturn\u001b[0m \u001b[0mself\u001b[0m\u001b[1;33m.\u001b[0m\u001b[0m_values\u001b[0m\u001b[1;33m[\u001b[0m\u001b[0mkey\u001b[0m\u001b[1;33m]\u001b[0m\u001b[1;33m\u001b[0m\u001b[1;33m\u001b[0m\u001b[0m\n\u001b[0m\u001b[0;32m     94\u001b[0m \u001b[1;33m\u001b[0m\u001b[0m\n\u001b[0;32m     95\u001b[0m   \u001b[1;32mdef\u001b[0m \u001b[0m__len__\u001b[0m\u001b[1;33m(\u001b[0m\u001b[0mself\u001b[0m\u001b[1;33m)\u001b[0m \u001b[1;33m->\u001b[0m \u001b[0mint\u001b[0m\u001b[1;33m:\u001b[0m\u001b[1;33m\u001b[0m\u001b[1;33m\u001b[0m\u001b[0m\n",
      "\u001b[1;31mIndexError\u001b[0m: list index out of range"
     ]
    }
   ],
   "source": [
    "pipeline_config.model.ssd.num_classes = len(labels)\n",
    "pipeline_config.train_config.batch_size = 4\n",
    "pipeline_config.train_config.fine_tune_checkpoint = PRETRAINED_MODEL_PATH+'/ssd_mobilenet_v2_fpnlite_320x320_coco17_tpu-8/checkpoint/ckpt-0'\n",
    "pipeline_config.train_config.fine_tune_checkpoint_type = \"detection\"\n",
    "pipeline_config.train_input_reader.label_map_path= ANNOTATION_PATH + '/label_map.pbtxt'\n",
    "pipeline_config.train_input_reader.tf_record_input_reader.input_path[:] = [ANNOTATION_PATH + '/train.record']\n",
    "pipeline_config.eval_input_reader[0].label_map_path = ANNOTATION_PATH + '/label_map.pbtxt'\n",
    "pipeline_config.eval_input_reader[0].tf_record_input_reader.input_path[:] = [ANNOTATION_PATH + '/test.record']"
   ]
  },
  {
   "cell_type": "code",
   "execution_count": null,
   "metadata": {},
   "outputs": [],
   "source": [
    "config_text = text_format.MessageToString(pipeline_config)                                                                                                                                                                                                        \n",
    "with tf.io.gfile.GFile(CONFIG_PATH, \"wb\") as f:                                                                                                                                                                                                                     \n",
    "    f.write(config_text)   "
   ]
  },
  {
   "cell_type": "markdown",
   "metadata": {},
   "source": [
    "# 6. Train the model"
   ]
  },
  {
   "cell_type": "code",
   "execution_count": 41,
   "metadata": {},
   "outputs": [
    {
     "name": "stdout",
     "output_type": "stream",
     "text": [
      "python Tensorflow/models/research/object_detection/model_main_tf2.py --model_dir=Tensorflow/workspace/models/my_ssd_mobnet --pipeline_config_path=Tensorflow/workspace/models/my_ssd_mobnet/pipeline.config --num_train_steps=5000\n"
     ]
    }
   ],
   "source": [
    "print(\"\"\"python {}/research/object_detection/model_main_tf2.py --model_dir={}/{} --pipeline_config_path={}/{}/pipeline.config --num_train_steps=5000\"\"\".format(APIMODEL_PATH, MODEL_PATH,CUSTOM_MODEL_NAME,MODEL_PATH,CUSTOM_MODEL_NAME))"
   ]
  },
  {
   "cell_type": "markdown",
   "metadata": {},
   "source": [
    "# 7. Load Train Model From Checkpoint"
   ]
  },
  {
   "cell_type": "code",
   "execution_count": 42,
   "metadata": {},
   "outputs": [
    {
     "ename": "AttributeError",
     "evalue": "module 'tensorflow' has no attribute 'contrib'",
     "output_type": "error",
     "traceback": [
      "\u001b[1;31m---------------------------------------------------------------------------\u001b[0m",
      "\u001b[1;31mAttributeError\u001b[0m                            Traceback (most recent call last)",
      "\u001b[1;32m~\\AppData\\Local\\Temp\\ipykernel_14684\\3021286598.py\u001b[0m in \u001b[0;36m<module>\u001b[1;34m\u001b[0m\n\u001b[0;32m      2\u001b[0m \u001b[1;32mfrom\u001b[0m \u001b[0mobject_detection\u001b[0m\u001b[1;33m.\u001b[0m\u001b[0mutils\u001b[0m \u001b[1;32mimport\u001b[0m \u001b[0mlabel_map_util\u001b[0m\u001b[1;33m\u001b[0m\u001b[1;33m\u001b[0m\u001b[0m\n\u001b[0;32m      3\u001b[0m \u001b[1;32mfrom\u001b[0m \u001b[0mobject_detection\u001b[0m\u001b[1;33m.\u001b[0m\u001b[0mutils\u001b[0m \u001b[1;32mimport\u001b[0m \u001b[0mvisualization_utils\u001b[0m \u001b[1;32mas\u001b[0m \u001b[0mviz_utils\u001b[0m\u001b[1;33m\u001b[0m\u001b[1;33m\u001b[0m\u001b[0m\n\u001b[1;32m----> 4\u001b[1;33m \u001b[1;32mfrom\u001b[0m \u001b[0mobject_detection\u001b[0m\u001b[1;33m.\u001b[0m\u001b[0mbuilders\u001b[0m \u001b[1;32mimport\u001b[0m \u001b[0mmodel_builder\u001b[0m\u001b[1;33m\u001b[0m\u001b[1;33m\u001b[0m\u001b[0m\n\u001b[0m",
      "\u001b[1;32m~\\anaconda3\\envs\\tf_2.4.0\\lib\\site-packages\\object_detection\\builders\\model_builder.py\u001b[0m in \u001b[0;36m<module>\u001b[1;34m\u001b[0m\n\u001b[0;32m     20\u001b[0m \u001b[1;32mfrom\u001b[0m \u001b[0mobject_detection\u001b[0m\u001b[1;33m.\u001b[0m\u001b[0mbuilders\u001b[0m \u001b[1;32mimport\u001b[0m \u001b[0manchor_generator_builder\u001b[0m\u001b[1;33m\u001b[0m\u001b[1;33m\u001b[0m\u001b[0m\n\u001b[0;32m     21\u001b[0m \u001b[1;32mfrom\u001b[0m \u001b[0mobject_detection\u001b[0m\u001b[1;33m.\u001b[0m\u001b[0mbuilders\u001b[0m \u001b[1;32mimport\u001b[0m \u001b[0mbox_coder_builder\u001b[0m\u001b[1;33m\u001b[0m\u001b[1;33m\u001b[0m\u001b[0m\n\u001b[1;32m---> 22\u001b[1;33m \u001b[1;32mfrom\u001b[0m \u001b[0mobject_detection\u001b[0m\u001b[1;33m.\u001b[0m\u001b[0mbuilders\u001b[0m \u001b[1;32mimport\u001b[0m \u001b[0mbox_predictor_builder\u001b[0m\u001b[1;33m\u001b[0m\u001b[1;33m\u001b[0m\u001b[0m\n\u001b[0m\u001b[0;32m     23\u001b[0m \u001b[1;32mfrom\u001b[0m \u001b[0mobject_detection\u001b[0m\u001b[1;33m.\u001b[0m\u001b[0mbuilders\u001b[0m \u001b[1;32mimport\u001b[0m \u001b[0mhyperparams_builder\u001b[0m\u001b[1;33m\u001b[0m\u001b[1;33m\u001b[0m\u001b[0m\n\u001b[0;32m     24\u001b[0m \u001b[1;32mfrom\u001b[0m \u001b[0mobject_detection\u001b[0m\u001b[1;33m.\u001b[0m\u001b[0mbuilders\u001b[0m \u001b[1;32mimport\u001b[0m \u001b[0mimage_resizer_builder\u001b[0m\u001b[1;33m\u001b[0m\u001b[1;33m\u001b[0m\u001b[0m\n",
      "\u001b[1;32m~\\anaconda3\\envs\\tf_2.4.0\\lib\\site-packages\\object_detection\\builders\\box_predictor_builder.py\u001b[0m in \u001b[0;36m<module>\u001b[1;34m\u001b[0m\n\u001b[0;32m     18\u001b[0m \u001b[1;32mimport\u001b[0m \u001b[0mcollections\u001b[0m\u001b[1;33m\u001b[0m\u001b[1;33m\u001b[0m\u001b[0m\n\u001b[0;32m     19\u001b[0m \u001b[1;32mimport\u001b[0m \u001b[0mtensorflow\u001b[0m \u001b[1;32mas\u001b[0m \u001b[0mtf\u001b[0m\u001b[1;33m\u001b[0m\u001b[1;33m\u001b[0m\u001b[0m\n\u001b[1;32m---> 20\u001b[1;33m \u001b[1;32mfrom\u001b[0m \u001b[0mobject_detection\u001b[0m\u001b[1;33m.\u001b[0m\u001b[0mpredictors\u001b[0m \u001b[1;32mimport\u001b[0m \u001b[0mconvolutional_box_predictor\u001b[0m\u001b[1;33m\u001b[0m\u001b[1;33m\u001b[0m\u001b[0m\n\u001b[0m\u001b[0;32m     21\u001b[0m \u001b[1;32mfrom\u001b[0m \u001b[0mobject_detection\u001b[0m\u001b[1;33m.\u001b[0m\u001b[0mpredictors\u001b[0m \u001b[1;32mimport\u001b[0m \u001b[0mconvolutional_keras_box_predictor\u001b[0m\u001b[1;33m\u001b[0m\u001b[1;33m\u001b[0m\u001b[0m\n\u001b[0;32m     22\u001b[0m \u001b[1;32mfrom\u001b[0m \u001b[0mobject_detection\u001b[0m\u001b[1;33m.\u001b[0m\u001b[0mpredictors\u001b[0m \u001b[1;32mimport\u001b[0m \u001b[0mmask_rcnn_box_predictor\u001b[0m\u001b[1;33m\u001b[0m\u001b[1;33m\u001b[0m\u001b[0m\n",
      "\u001b[1;32m~\\anaconda3\\envs\\tf_2.4.0\\lib\\site-packages\\object_detection\\predictors\\convolutional_box_predictor.py\u001b[0m in \u001b[0;36m<module>\u001b[1;34m\u001b[0m\n\u001b[0;32m     20\u001b[0m \u001b[1;32mfrom\u001b[0m \u001b[0mobject_detection\u001b[0m\u001b[1;33m.\u001b[0m\u001b[0mutils\u001b[0m \u001b[1;32mimport\u001b[0m \u001b[0mstatic_shape\u001b[0m\u001b[1;33m\u001b[0m\u001b[1;33m\u001b[0m\u001b[0m\n\u001b[0;32m     21\u001b[0m \u001b[1;33m\u001b[0m\u001b[0m\n\u001b[1;32m---> 22\u001b[1;33m \u001b[0mslim\u001b[0m \u001b[1;33m=\u001b[0m \u001b[0mtf\u001b[0m\u001b[1;33m.\u001b[0m\u001b[0mcontrib\u001b[0m\u001b[1;33m.\u001b[0m\u001b[0mslim\u001b[0m\u001b[1;33m\u001b[0m\u001b[1;33m\u001b[0m\u001b[0m\n\u001b[0m\u001b[0;32m     23\u001b[0m \u001b[1;33m\u001b[0m\u001b[0m\n\u001b[0;32m     24\u001b[0m \u001b[0mBOX_ENCODINGS\u001b[0m \u001b[1;33m=\u001b[0m \u001b[0mbox_predictor\u001b[0m\u001b[1;33m.\u001b[0m\u001b[0mBOX_ENCODINGS\u001b[0m\u001b[1;33m\u001b[0m\u001b[1;33m\u001b[0m\u001b[0m\n",
      "\u001b[1;31mAttributeError\u001b[0m: module 'tensorflow' has no attribute 'contrib'"
     ]
    }
   ],
   "source": [
    "import os\n",
    "from object_detection.utils import label_map_util\n",
    "from object_detection.utils import visualization_utils as viz_utils\n",
    "from object_detection.builders import model_builder"
   ]
  },
  {
   "cell_type": "code",
   "execution_count": 43,
   "metadata": {},
   "outputs": [
    {
     "ename": "AttributeError",
     "evalue": "module 'tensorflow' has no attribute 'gfile'",
     "output_type": "error",
     "traceback": [
      "\u001b[1;31m---------------------------------------------------------------------------\u001b[0m",
      "\u001b[1;31mAttributeError\u001b[0m                            Traceback (most recent call last)",
      "\u001b[1;32m~\\AppData\\Local\\Temp\\ipykernel_14684\\938103439.py\u001b[0m in \u001b[0;36m<module>\u001b[1;34m\u001b[0m\n\u001b[0;32m      1\u001b[0m \u001b[1;31m# Load pipeline config and build a detection model\u001b[0m\u001b[1;33m\u001b[0m\u001b[1;33m\u001b[0m\u001b[1;33m\u001b[0m\u001b[0m\n\u001b[1;32m----> 2\u001b[1;33m \u001b[0mconfigs\u001b[0m \u001b[1;33m=\u001b[0m \u001b[0mconfig_util\u001b[0m\u001b[1;33m.\u001b[0m\u001b[0mget_configs_from_pipeline_file\u001b[0m\u001b[1;33m(\u001b[0m\u001b[0mCONFIG_PATH\u001b[0m\u001b[1;33m)\u001b[0m\u001b[1;33m\u001b[0m\u001b[1;33m\u001b[0m\u001b[0m\n\u001b[0m\u001b[0;32m      3\u001b[0m \u001b[0mdetection_model\u001b[0m \u001b[1;33m=\u001b[0m \u001b[0mmodel_builder\u001b[0m\u001b[1;33m.\u001b[0m\u001b[0mbuild\u001b[0m\u001b[1;33m(\u001b[0m\u001b[0mmodel_config\u001b[0m\u001b[1;33m=\u001b[0m\u001b[0mconfigs\u001b[0m\u001b[1;33m[\u001b[0m\u001b[1;34m'model'\u001b[0m\u001b[1;33m]\u001b[0m\u001b[1;33m,\u001b[0m \u001b[0mis_training\u001b[0m\u001b[1;33m=\u001b[0m\u001b[1;32mFalse\u001b[0m\u001b[1;33m)\u001b[0m\u001b[1;33m\u001b[0m\u001b[1;33m\u001b[0m\u001b[0m\n\u001b[0;32m      4\u001b[0m \u001b[1;33m\u001b[0m\u001b[0m\n\u001b[0;32m      5\u001b[0m \u001b[1;31m# Restore checkpoint\u001b[0m\u001b[1;33m\u001b[0m\u001b[1;33m\u001b[0m\u001b[1;33m\u001b[0m\u001b[0m\n",
      "\u001b[1;32m~\\anaconda3\\envs\\tf_2.4.0\\lib\\site-packages\\object_detection\\utils\\config_util.py\u001b[0m in \u001b[0;36mget_configs_from_pipeline_file\u001b[1;34m(pipeline_config_path, config_override)\u001b[0m\n\u001b[0;32m     94\u001b[0m   \"\"\"\n\u001b[0;32m     95\u001b[0m   \u001b[0mpipeline_config\u001b[0m \u001b[1;33m=\u001b[0m \u001b[0mpipeline_pb2\u001b[0m\u001b[1;33m.\u001b[0m\u001b[0mTrainEvalPipelineConfig\u001b[0m\u001b[1;33m(\u001b[0m\u001b[1;33m)\u001b[0m\u001b[1;33m\u001b[0m\u001b[1;33m\u001b[0m\u001b[0m\n\u001b[1;32m---> 96\u001b[1;33m   \u001b[1;32mwith\u001b[0m \u001b[0mtf\u001b[0m\u001b[1;33m.\u001b[0m\u001b[0mio\u001b[0m\u001b[1;33m.\u001b[0m\u001b[0mgfile\u001b[0m\u001b[1;33m.\u001b[0m\u001b[0mGFile\u001b[0m\u001b[1;33m(\u001b[0m\u001b[0mpipeline_config_path\u001b[0m\u001b[1;33m,\u001b[0m \u001b[1;34m\"r\"\u001b[0m\u001b[1;33m)\u001b[0m \u001b[1;32mas\u001b[0m \u001b[0mf\u001b[0m\u001b[1;33m:\u001b[0m\u001b[1;33m\u001b[0m\u001b[1;33m\u001b[0m\u001b[0m\n\u001b[0m\u001b[0;32m     97\u001b[0m     \u001b[0mproto_str\u001b[0m \u001b[1;33m=\u001b[0m \u001b[0mf\u001b[0m\u001b[1;33m.\u001b[0m\u001b[0mread\u001b[0m\u001b[1;33m(\u001b[0m\u001b[1;33m)\u001b[0m\u001b[1;33m\u001b[0m\u001b[1;33m\u001b[0m\u001b[0m\n\u001b[0;32m     98\u001b[0m     \u001b[0mtext_format\u001b[0m\u001b[1;33m.\u001b[0m\u001b[0mMerge\u001b[0m\u001b[1;33m(\u001b[0m\u001b[0mproto_str\u001b[0m\u001b[1;33m,\u001b[0m \u001b[0mpipeline_config\u001b[0m\u001b[1;33m)\u001b[0m\u001b[1;33m\u001b[0m\u001b[1;33m\u001b[0m\u001b[0m\n",
      "\u001b[1;31mAttributeError\u001b[0m: module 'tensorflow' has no attribute 'gfile'"
     ]
    }
   ],
   "source": [
    "# Load pipeline config and build a detection model\n",
    "configs = config_util.get_configs_from_pipeline_file(CONFIG_PATH)\n",
    "detection_model = model_builder.build(model_config=configs['model'], is_training=False)\n",
    "\n",
    "# Restore checkpoint\n",
    "ckpt = tf.compat.v2.train.Checkpoint(model=detection_model)\n",
    "ckpt.restore(os.path.join(CHECKPOINT_PATH, 'ckpt-11')).expect_partial()\n",
    "\n",
    "@tf.function\n",
    "def detect_fn(image):\n",
    "    image, shapes = detection_model.preprocess(image)\n",
    "    prediction_dict = detection_model.predict(image, shapes)\n",
    "    detections = detection_model.postprocess(prediction_dict, shapes)\n",
    "    return detections"
   ]
  },
  {
   "cell_type": "markdown",
   "metadata": {},
   "source": [
    "# 8. Detect in Real-Time"
   ]
  },
  {
   "cell_type": "code",
   "execution_count": 44,
   "metadata": {},
   "outputs": [
    {
     "ename": "ModuleNotFoundError",
     "evalue": "No module named 'cv2'",
     "output_type": "error",
     "traceback": [
      "\u001b[1;31m---------------------------------------------------------------------------\u001b[0m",
      "\u001b[1;31mModuleNotFoundError\u001b[0m                       Traceback (most recent call last)",
      "\u001b[1;32m~\\AppData\\Local\\Temp\\ipykernel_14684\\424824968.py\u001b[0m in \u001b[0;36m<module>\u001b[1;34m\u001b[0m\n\u001b[1;32m----> 1\u001b[1;33m \u001b[1;32mimport\u001b[0m \u001b[0mcv2\u001b[0m\u001b[1;33m\u001b[0m\u001b[1;33m\u001b[0m\u001b[0m\n\u001b[0m\u001b[0;32m      2\u001b[0m \u001b[1;32mimport\u001b[0m \u001b[0mnumpy\u001b[0m \u001b[1;32mas\u001b[0m \u001b[0mnp\u001b[0m\u001b[1;33m\u001b[0m\u001b[1;33m\u001b[0m\u001b[0m\n",
      "\u001b[1;31mModuleNotFoundError\u001b[0m: No module named 'cv2'"
     ]
    }
   ],
   "source": [
    "import cv2 \n",
    "import numpy as np"
   ]
  },
  {
   "cell_type": "code",
   "execution_count": 45,
   "metadata": {},
   "outputs": [],
   "source": [
    "category_index = label_map_util.create_category_index_from_labelmap(ANNOTATION_PATH+'/label_map.pbtxt')"
   ]
  },
  {
   "cell_type": "code",
   "execution_count": null,
   "metadata": {},
   "outputs": [],
   "source": [
    "cap = cv2.VideoCapture(0)\n",
    "while True: \n",
    "    ret, frame = cap.read()\n",
    "    image_np = np.array(frame)\n",
    "    \n",
    "    input_tensor = tf.convert_to_tensor(np.expand_dims(image_np, 0), dtype=tf.float32)\n",
    "    detections = detect_fn(input_tensor)\n",
    "    \n",
    "    num_detections = int(detections.pop('num_detections'))\n",
    "    detections = {key: value[0, :num_detections].numpy()\n",
    "                  for key, value in detections.items()}\n",
    "    detections['num_detections'] = num_detections\n",
    "\n",
    "    # detection_classes should be ints.\n",
    "    detections['detection_classes'] = detections['detection_classes'].astype(np.int64)\n",
    "\n",
    "    label_id_offset = 1\n",
    "    image_np_with_detections = image_np.copy()\n",
    "\n",
    "    viz_utils.visualize_boxes_and_labels_on_image_array(\n",
    "                image_np_with_detections,\n",
    "                detections['detection_boxes'],\n",
    "                detections['detection_classes']+label_id_offset,\n",
    "                detections['detection_scores'],\n",
    "                category_index,\n",
    "                use_normalized_coordinates=True,\n",
    "                max_boxes_to_draw=1,\n",
    "                min_score_thresh=.95,\n",
    "                agnostic_mode=False)\n",
    "\n",
    "    cv2.imshow('object detection',  cv2.resize(image_np_with_detections, (800, 600)))\n",
    "    \n",
    "    if cv2.waitKey(1) & 0xFF == ord('q'):\n",
    "        cap.release()\n",
    "        break\n",
    "cap.release()"
   ]
  },
  {
   "cell_type": "markdown",
   "metadata": {},
   "source": [
    "# 9. Save Graph"
   ]
  },
  {
   "cell_type": "code",
   "execution_count": 46,
   "metadata": {},
   "outputs": [
    {
     "name": "stdout",
     "output_type": "stream",
     "text": [
      "python Tensorflow/models/research/object_detection/exporter_main_v2.py --input_type=image_tensor --pipeline_config_path=Tensorflow/workspace/models/my_ssd_mobnet/pipeline.config --trained_checkpoint_dir=Tensorflow/workspace/models/my_ssd_mobnet/ --output_directory=Tensorflow/workspace/models/my_ssd_mobnet/export\n"
     ]
    }
   ],
   "source": [
    "print(\"\"\"python {}/research/object_detection/exporter_main_v2.py --input_type=image_tensor --pipeline_config_path={}/{}/pipeline.config --trained_checkpoint_dir={} --output_directory={}export\"\"\".format(APIMODEL_PATH, MODEL_PATH, CUSTOM_MODEL_NAME,CHECKPOINT_PATH, CHECKPOINT_PATH))"
   ]
  },
  {
   "cell_type": "markdown",
   "metadata": {},
   "source": [
    "# 10. Convert to TFJS model"
   ]
  },
  {
   "cell_type": "code",
   "execution_count": null,
   "metadata": {
    "collapsed": true
   },
   "outputs": [],
   "source": [
    "!pip install tensorflowjs"
   ]
  },
  {
   "cell_type": "code",
   "execution_count": 47,
   "metadata": {},
   "outputs": [
    {
     "data": {
      "text/plain": [
       "\"tensorflowjs_converter --input_format=tf_saved_model --output_node_names='detection_boxes,detection_classes,detection_features,detection_multiclass_scores,detection_scores,num_detections,raw_detection_boxes,raw_detection_scores' --output_format=tfjs_graph_model --signature_name=serving_default Tensorflow/workspace/models/my_ssd_mobnet/export/saved_model Tensorflow/workspace/models/my_ssd_mobnet/converted\""
      ]
     },
     "execution_count": 47,
     "metadata": {},
     "output_type": "execute_result"
    }
   ],
   "source": [
    "\"\"\"tensorflowjs_converter --input_format=tf_saved_model --output_node_names='detection_boxes,detection_classes,detection_features,detection_multiclass_scores,detection_scores,num_detections,raw_detection_boxes,raw_detection_scores' --output_format=tfjs_graph_model --signature_name=serving_default {}export/saved_model {}converted\"\"\".format(CHECKPOINT_PATH, CHECKPOINT_PATH)"
   ]
  },
  {
   "cell_type": "code",
   "execution_count": null,
   "metadata": {},
   "outputs": [],
   "source": []
  }
 ],
 "metadata": {
  "kernelspec": {
   "display_name": "Python 3 (ipykernel)",
   "language": "python",
   "name": "python3"
  },
  "language_info": {
   "codemirror_mode": {
    "name": "ipython",
    "version": 3
   },
   "file_extension": ".py",
   "mimetype": "text/x-python",
   "name": "python",
   "nbconvert_exporter": "python",
   "pygments_lexer": "ipython3",
   "version": "3.7.15"
  },
  "vscode": {
   "interpreter": {
    "hash": "26de051ba29f2982a8de78e945f0abaf191376122a1563185a90213a26c5da77"
   }
  }
 },
 "nbformat": 4,
 "nbformat_minor": 2
}
